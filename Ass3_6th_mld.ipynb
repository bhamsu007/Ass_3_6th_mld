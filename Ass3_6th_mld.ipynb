{
 "cells": [
  {
   "cell_type": "markdown",
   "metadata": {},
   "source": [
    "1. Write a Python Program to implement your own myreduce() function which works exactly like Python's built-in function reduce()."
   ]
  },
  {
   "cell_type": "code",
   "execution_count": 2,
   "metadata": {},
   "outputs": [
    {
     "name": "stdout",
     "output_type": "stream",
     "text": [
      "Sum on list [1,2,3] using custom reduce function 6\n"
     ]
    }
   ],
   "source": [
    "def myreduce(anyfunc, sequence):  \n",
    "    result = sequence[0]\n",
    "    for item in sequence[1:]:\n",
    "        result = anyfunc(result, item)\n",
    "    return result\n",
    "\n",
    "\n",
    "def sum(x,y): return x + y\n",
    "\n",
    "\n",
    "\n",
    "print (\"Sum on list [1,2,3] using custom reduce function \"   + str(myreduce(sum, [1,2,3])) )"
   ]
  },
  {
   "cell_type": "markdown",
   "metadata": {},
   "source": [
    "2. Write a Python program to implement your own myfilter() function which works exactly like Python's built-in function filter()."
   ]
  },
  {
   "cell_type": "code",
   "execution_count": 3,
   "metadata": {},
   "outputs": [
    {
     "name": "stdout",
     "output_type": "stream",
     "text": [
      "Filter only positive Integers on list [0,1,-2,3,4,5] using custom filter function[1, 3, 4, 5]\n"
     ]
    }
   ],
   "source": [
    "def myfilter(anyfunc, sequence):\n",
    "    result = []\n",
    "    for item in sequence:\n",
    "        if anyfunc(item):\n",
    "            result.append(item)\n",
    "    return result\n",
    "\n",
    "def ispositive(x):\n",
    "    if (x <= 0): \n",
    "        return False \n",
    "    else: \n",
    "        return True\n",
    "\n",
    "print (\"Filter only positive Integers on list [0,1,-2,3,4,5] using custom filter function\"  + str(myfilter(ispositive, [0,1,-2,3,4,5])))"
   ]
  },
  {
   "cell_type": "raw",
   "metadata": {},
   "source": [
    "3.Implement List comprehensions to produce the following lists. Write List comprehensions to produce the following Lists .\n",
    "['x', 'xx', 'xxx', 'xxxx', 'y', 'yy', 'yyy', 'yyyy', 'z', 'zz', 'zzz', 'zzzz']\n",
    "['x', 'y', 'z', 'xx', 'yy', 'zz', 'xx', 'yy', 'zz', 'xxxx', 'yyyy', 'zzzz']\n",
    "[[2], [3], [4], [3], [4], [5], [4], [5], [6]] \n",
    "[[2, 3, 4, 5], [3, 4, 5, 6], [4, 5, 6, 7], [5, 6, 7, 8]]\n",
    "[(1, 1), (2, 1), (3, 1), (1, 2), (2, 2), (3, 2), (1, 3), (2, 3), (3, 3)]"
   ]
  },
  {
   "cell_type": "code",
   "execution_count": 6,
   "metadata": {},
   "outputs": [
    {
     "name": "stdout",
     "output_type": "stream",
     "text": [
      "['x', 'xx', 'xxx', 'xxxx', 'y', 'yy', 'yyy', 'yyyy', 'z', 'zz', 'zzz', 'zzzz']\n",
      "['x', 'y', 'z', 'xx', 'yy', 'zz', 'xxx', 'yyy', 'zzz', 'xxxx', 'yyyy', 'zzzz']\n",
      "[[2], [3], [4], [3], [4], [5], [4], [5], [6]]\n",
      "[[2, 3, 4, 5], [3, 4, 5, 6], [4, 5, 6, 7], [5, 6, 7, 8]]\n",
      "[(1, 1), (2, 1), (3, 1), (1, 2), (2, 2), (3, 2), (1, 3), (2, 3), (3, 3)]\n"
     ]
    }
   ],
   "source": [
    "xyz=['x','y','z']\n",
    "lst1=[xyz[i]*j for i in range(3) for j in range(1,5)]\n",
    "print(lst1)\n",
    "lst2=[xyz[i]*j for j in range(1,5) for i in range(3)]\n",
    "print(lst2)\n",
    "lst3=[[i+j] for j in range(2,5) for i in range(3)]\n",
    "print(lst3)\n",
    "lst4=[[i for i in range(j,j+4)] for j in range(2,6)]\n",
    "print(lst4)\n",
    "lst5=[(i,j) for j in range(1,4) for i in range(1,4)]\n",
    "print(lst5)"
   ]
  },
  {
   "cell_type": "code",
   "execution_count": null,
   "metadata": {},
   "outputs": [],
   "source": []
  }
 ],
 "metadata": {
  "kernelspec": {
   "display_name": "Python 3",
   "language": "python",
   "name": "python3"
  },
  "language_info": {
   "codemirror_mode": {
    "name": "ipython",
    "version": 3
   },
   "file_extension": ".py",
   "mimetype": "text/x-python",
   "name": "python",
   "nbconvert_exporter": "python",
   "pygments_lexer": "ipython3",
   "version": "3.7.6"
  }
 },
 "nbformat": 4,
 "nbformat_minor": 4
}
